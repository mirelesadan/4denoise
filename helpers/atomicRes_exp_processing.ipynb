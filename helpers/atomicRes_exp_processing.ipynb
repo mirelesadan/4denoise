{
 "cells": [
  {
   "cell_type": "markdown",
   "id": "e880ec0b",
   "metadata": {},
   "source": [
    "# 4D-STEM Data Processing: *Experimental Atomic Resolution [Material]*"
   ]
  },
  {
   "cell_type": "code",
   "execution_count": 2,
   "id": "89ee836f",
   "metadata": {
    "scrolled": false
   },
   "outputs": [
    {
     "name": "stderr",
     "output_type": "stream",
     "text": [
      "C:\\Users\\haloe\\anaconda3\\Lib\\site-packages\\paramiko\\transport.py:219: CryptographyDeprecationWarning: Blowfish has been deprecated\n",
      "  \"class\": algorithms.Blowfish,\n"
     ]
    }
   ],
   "source": [
    "\"\"\"Import the python script containing the helper functions and classes\"\"\"\n",
    "from proc4D import *"
   ]
  },
  {
   "cell_type": "code",
   "execution_count": 37,
   "id": "51fbe1fb",
   "metadata": {},
   "outputs": [],
   "source": [
    "def read_mat_file(filename):\n",
    "    \n",
    "    data = io.loadmat(filename)\n",
    "    \n",
    "    for key in data.keys():\n",
    "        content = data[key]\n",
    "        \n",
    "        if isinstance(content, np.ndarray):\n",
    "            if len(content.shape) > 1:\n",
    "                return content"
   ]
  },
  {
   "cell_type": "code",
   "execution_count": 3,
   "id": "4b6ff8a8",
   "metadata": {},
   "outputs": [
    {
     "name": "stdout",
     "output_type": "stream",
     "text": [
      "Data key not found in the .mat file.\n"
     ]
    }
   ],
   "source": [
    "import scipy.io\n",
    "\n",
    "def read_mat_file(filename):\n",
    "    \n",
    "#     data = scipy.io.loadmat(filename)\n",
    "    \n",
    "#     keys = data.keys()\n",
    "    \n",
    "    try:\n",
    "        data = scipy.io.loadmat(filename)\n",
    "        # Assuming the variable inside .mat you want is named 'data'\n",
    "        # You need to replace 'data' with the actual variable name you want to extract.\n",
    "        # Usually, the variable names can be listed with data.keys()\n",
    "        if 'data' in data:\n",
    "            dp = data['data']\n",
    "            print(\"Data loaded successfully.\")\n",
    "            return dp\n",
    "        else:\n",
    "            print(\"Data key not found in the .mat file.\")\n",
    "            return data\n",
    "    except NotImplementedError:\n",
    "        print(\"This file may be in HDF5 format. Trying h5py to load.\")\n",
    "        return read_mat_file_h5py(filename)\n",
    "    except Exception as e:\n",
    "        print(f\"Failed to read the .mat file: {e}\")\n",
    "        return None\n",
    "\n",
    "def read_mat_file_h5py(filename):\n",
    "    import h5py\n",
    "    try:\n",
    "        with h5py.File(filename, 'r') as file:\n",
    "            # List all groups\n",
    "            print(\"Keys: %s\" % list(file.keys()))\n",
    "            # Let's assume data is the first key\n",
    "            first_key = list(file.keys())[0]\n",
    "            data = np.array(file[first_key])\n",
    "            return data\n",
    "    except Exception as e:\n",
    "        print(f\"Error reading with h5py: {e}\")\n",
    "        return None\n",
    "\n",
    "\n"
   ]
  },
  {
   "cell_type": "code",
   "execution_count": 30,
   "id": "99e6bb63",
   "metadata": {
    "scrolled": false
   },
   "outputs": [
    {
     "data": {
      "text/plain": [
       "'wes2susp_36_41mx_380mm_apr70_spot9_50x_50y_100z_432stp_x128_y128.raw'"
      ]
     },
     "execution_count": 30,
     "metadata": {},
     "output_type": "execute_result"
    }
   ],
   "source": [
    "atomic_res_data['fnm'][0]"
   ]
  },
  {
   "cell_type": "code",
   "execution_count": null,
   "id": "54534909",
   "metadata": {},
   "outputs": [],
   "source": []
  },
  {
   "cell_type": "code",
   "execution_count": 31,
   "id": "094c6f37",
   "metadata": {},
   "outputs": [
    {
     "name": "stderr",
     "output_type": "stream",
     "text": [
      "Computing centers of mass: 100%|██████████| 128/128 [00:00<00:00, 203.84it/s]\n"
     ]
    },
    {
     "name": "stdout",
     "output_type": "stream",
     "text": [
      "Processing 128 by 128 real-space positions...\n"
     ]
    },
    {
     "name": "stderr",
     "output_type": "stream",
     "text": [
      "Alignment Progress: 100%|██████████| 128/128 [00:05<00:00, 22.71it/s]\n",
      "Computing centers of mass: 100%|██████████| 128/128 [00:00<00:00, 243.49it/s]"
     ]
    },
    {
     "name": "stdout",
     "output_type": "stream",
     "text": [
      "\n",
      "Standard deviation statistics (ky, kx): (0.0815, 0.0810)\n",
      "COM (ky, kx): (61.9954, 61.9990)\n"
     ]
    },
    {
     "name": "stderr",
     "output_type": "stream",
     "text": [
      "\n"
     ]
    }
   ],
   "source": [
    "atomic_res_data = atomic_res_data['cbed']\n",
    "\n",
    "atomic_res_data = HyperData(atomic_res_data)\n",
    "atomic_res_data = atomic_res_data.swap_coordinates()\n",
    "atomic_res_data = atomic_res_data.alignment(r_mask=20)[0]"
   ]
  },
  {
   "cell_type": "code",
   "execution_count": 42,
   "id": "3fd169b9",
   "metadata": {},
   "outputs": [
    {
     "data": {
      "text/plain": [
       "(128, 128, 124, 124)"
      ]
     },
     "execution_count": 42,
     "metadata": {},
     "output_type": "execute_result"
    }
   ],
   "source": [
    "atomic_res_data.data.shape"
   ]
  },
  {
   "cell_type": "code",
   "execution_count": 33,
   "id": "525bbed2",
   "metadata": {},
   "outputs": [],
   "source": [
    "# Save preprocessed dataset\n",
    "fname_processedData = 'atomicRes_processed_data.npy'\n",
    "np.save(fname_processedData, atomic_res_data.data)"
   ]
  },
  {
   "cell_type": "code",
   "execution_count": 40,
   "id": "aec5a143",
   "metadata": {},
   "outputs": [],
   "source": [
    "\"\"\"[Optional] Run py4D-browser to visualize the aligned 4D dataset.\"\"\"\n",
    "\n",
    "import subprocess\n",
    "\n",
    "command = ['py4DGUI', fname_processedData] \n",
    "result = subprocess.run(command, stdout=subprocess.PIPE, stderr=subprocess.PIPE)"
   ]
  },
  {
   "cell_type": "markdown",
   "id": "ec3895d1",
   "metadata": {},
   "source": [
    "---"
   ]
  },
  {
   "cell_type": "markdown",
   "id": "ee7eebc1",
   "metadata": {},
   "source": [
    "## 1. Data Loading and Preprocessing"
   ]
  },
  {
   "cell_type": "markdown",
   "id": "1e6006af",
   "metadata": {},
   "source": [
    "### 1.1. Load atomic model from *MaterialsProject*"
   ]
  },
  {
   "cell_type": "markdown",
   "id": "564f1ddf",
   "metadata": {},
   "source": [
    "### 1.2. Preprocessed Data"
   ]
  },
  {
   "cell_type": "markdown",
   "id": "22d52502",
   "metadata": {},
   "source": [
    "If section **1.1** was skipped, then **do not** skip this section. Otherwise skip. "
   ]
  },
  {
   "cell_type": "code",
   "execution_count": null,
   "id": "a46be14a",
   "metadata": {},
   "outputs": [],
   "source": []
  },
  {
   "cell_type": "markdown",
   "id": "e24985de",
   "metadata": {},
   "source": [
    "---"
   ]
  },
  {
   "cell_type": "markdown",
   "id": "39663c8e",
   "metadata": {},
   "source": [
    "## 2. Denoising"
   ]
  },
  {
   "cell_type": "markdown",
   "id": "e975ae9c",
   "metadata": {},
   "source": [
    "### 2.1. Spatial Filters"
   ]
  },
  {
   "cell_type": "code",
   "execution_count": null,
   "id": "87ecb583",
   "metadata": {},
   "outputs": [],
   "source": []
  },
  {
   "cell_type": "markdown",
   "id": "87ba3199",
   "metadata": {},
   "source": [
    "### 2.2. Transform Domain Filters"
   ]
  },
  {
   "cell_type": "code",
   "execution_count": null,
   "id": "7967705b",
   "metadata": {},
   "outputs": [],
   "source": []
  },
  {
   "cell_type": "markdown",
   "id": "af66bd76",
   "metadata": {},
   "source": [
    "### 2.3. Tensor Decomposition Filters"
   ]
  },
  {
   "cell_type": "code",
   "execution_count": null,
   "id": "c0d362a1",
   "metadata": {},
   "outputs": [],
   "source": []
  },
  {
   "cell_type": "markdown",
   "id": "9db98501",
   "metadata": {},
   "source": [
    "### 2.4. Supervised Machine Learning"
   ]
  },
  {
   "cell_type": "markdown",
   "id": "89b84725",
   "metadata": {},
   "source": [
    "Generate **training data** by simulating `N` diffraction patterns."
   ]
  },
  {
   "cell_type": "code",
   "execution_count": null,
   "id": "6fa9d7d4",
   "metadata": {},
   "outputs": [],
   "source": [
    "# We do not provide an example of supervised ML with atomic resolution data. Refer to large FOV example."
   ]
  },
  {
   "cell_type": "markdown",
   "id": "3ba7da5a",
   "metadata": {},
   "source": [
    "---"
   ]
  },
  {
   "cell_type": "markdown",
   "id": "42d4cfb0",
   "metadata": {},
   "source": [
    "## 3. Strain Mapping"
   ]
  },
  {
   "cell_type": "code",
   "execution_count": null,
   "id": "a057a008",
   "metadata": {},
   "outputs": [],
   "source": []
  }
 ],
 "metadata": {
  "kernelspec": {
   "display_name": "Python 3 (ipykernel)",
   "language": "python",
   "name": "python3"
  },
  "language_info": {
   "codemirror_mode": {
    "name": "ipython",
    "version": 3
   },
   "file_extension": ".py",
   "mimetype": "text/x-python",
   "name": "python",
   "nbconvert_exporter": "python",
   "pygments_lexer": "ipython3",
   "version": "3.11.3"
  }
 },
 "nbformat": 4,
 "nbformat_minor": 5
}
